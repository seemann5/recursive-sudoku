{
 "cells": [
  {
   "cell_type": "code",
   "execution_count": 1,
   "metadata": {},
   "outputs": [],
   "source": [
    "from RS4 import *"
   ]
  },
  {
   "cell_type": "code",
   "execution_count": 2,
   "metadata": {},
   "outputs": [
    {
     "name": "stdout",
     "output_type": "stream",
     "text": [
      "Start from:\n",
      "[   \u001b[93m4\u001b[0m] [   \u001b[93m4\u001b[0m] [   \u001b[93m4\u001b[0m] Start from:\n",
      "[   \u001b[93m4\u001b[0m] [   \u001b[93m4\u001b[0m] [  \u001b[94m3\u001b[0m ] Start from:\n",
      "[   \u001b[93m4\u001b[0m] [   \u001b[93m4\u001b[0m] [  \u001b[94m3\u001b[0m\u001b[93m4\u001b[0m] Start from:\n",
      "[   \u001b[93m4\u001b[0m] [   \u001b[93m4\u001b[0m] [ \u001b[92m2\u001b[0m  ] Start from:\n",
      "[   \u001b[93m4\u001b[0m] [   \u001b[93m4\u001b[0m] [ \u001b[92m2\u001b[0m \u001b[93m4\u001b[0m] Start from:\n",
      "[   \u001b[93m4\u001b[0m] [   \u001b[93m4\u001b[0m] [ \u001b[92m2\u001b[0m\u001b[94m3\u001b[0m ] Start from:\n",
      "[   \u001b[93m4\u001b[0m] [   \u001b[93m4\u001b[0m] [ \u001b[92m2\u001b[0m\u001b[94m3\u001b[0m\u001b[93m4\u001b[0m] "
     ]
    },
    {
     "ename": "KeyboardInterrupt",
     "evalue": "Interrupted by user",
     "output_type": "error",
     "traceback": [
      "\u001b[0;31m---------------------------------------------------------------------------\u001b[0m",
      "\u001b[0;31mKeyboardInterrupt\u001b[0m                         Traceback (most recent call last)",
      "Cell \u001b[0;32mIn [2], line 1\u001b[0m\n\u001b[0;32m----> 1\u001b[0m sp \u001b[39m=\u001b[39m SudokuProblem(\u001b[39m4\u001b[39;49m)\n",
      "File \u001b[0;32m/mnt/c/Users/Vijeta/Documents/Cours/shared/recursive-sudoku/four_outcomes/RS4.py:51\u001b[0m, in \u001b[0;36mSudokuProblem.__init__\u001b[0;34m(self, order)\u001b[0m\n\u001b[1;32m     45\u001b[0m \u001b[39mself\u001b[39m\u001b[39m.\u001b[39mpsb_to_x \u001b[39m=\u001b[39m \u001b[39mdict\u001b[39m()\n\u001b[1;32m     46\u001b[0m \u001b[39mself\u001b[39m\u001b[39m.\u001b[39mrb \u001b[39m=\u001b[39m [\n\u001b[1;32m     47\u001b[0m         [\n\u001b[1;32m     48\u001b[0m             [\u001b[39mNone\u001b[39;00m \u001b[39mfor\u001b[39;00m z \u001b[39min\u001b[39;00m \u001b[39mself\u001b[39m\u001b[39m.\u001b[39mall_xs]\n\u001b[1;32m     49\u001b[0m         \u001b[39mfor\u001b[39;00m y \u001b[39min\u001b[39;00m \u001b[39mself\u001b[39m\u001b[39m.\u001b[39mall_xs]\n\u001b[1;32m     50\u001b[0m     \u001b[39mfor\u001b[39;00m x \u001b[39min\u001b[39;00m \u001b[39mself\u001b[39m\u001b[39m.\u001b[39mall_xs]\n\u001b[0;32m---> 51\u001b[0m \u001b[39mself\u001b[39;49m\u001b[39m.\u001b[39;49mcreate_x_stuff()\n",
      "File \u001b[0;32m/mnt/c/Users/Vijeta/Documents/Cours/shared/recursive-sudoku/four_outcomes/RS4.py:151\u001b[0m, in \u001b[0;36mSudokuProblem.create_x_stuff\u001b[0;34m(self)\u001b[0m\n\u001b[1;32m    149\u001b[0m \u001b[39mfor\u001b[39;00m x \u001b[39min\u001b[39;00m xs:\n\u001b[1;32m    150\u001b[0m     \u001b[39mprint\u001b[39m(\u001b[39mself\u001b[39m\u001b[39m.\u001b[39mx_to_long_str[x],end\u001b[39m=\u001b[39m\u001b[39m\"\u001b[39m\u001b[39m \u001b[39m\u001b[39m\"\u001b[39m)\n\u001b[0;32m--> 151\u001b[0m wprint(\u001b[39m\"\u001b[39;49m\u001b[39m\"\u001b[39;49m)            \n\u001b[1;32m    152\u001b[0m \u001b[39m# So now we're trying to see how to update.\u001b[39;00m\n\u001b[1;32m    153\u001b[0m \n\u001b[1;32m    154\u001b[0m \u001b[39m# Now check for consistency & simplifications at the same time.\u001b[39;00m\n\u001b[1;32m    155\u001b[0m update_triple_psb \u001b[39m=\u001b[39m [\u001b[39mlist\u001b[39m(psb) \u001b[39mfor\u001b[39;00m psb \u001b[39min\u001b[39;00m triple_psb]\n",
      "File \u001b[0;32m/mnt/c/Users/Vijeta/Documents/Cours/shared/recursive-sudoku/four_outcomes/RS4.py:12\u001b[0m, in \u001b[0;36mwprint\u001b[0;34m(arg)\u001b[0m\n\u001b[1;32m     11\u001b[0m \u001b[39mdef\u001b[39;00m \u001b[39mwprint\u001b[39m(arg):\n\u001b[0;32m---> 12\u001b[0m     \u001b[39minput\u001b[39;49m(arg \u001b[39m+\u001b[39;49m \u001b[39m\"\u001b[39;49m\u001b[39m [Enter to continue]\u001b[39;49m\u001b[39m\"\u001b[39;49m)\n",
      "File \u001b[0;32m~/.local/lib/python3.8/site-packages/ipykernel/kernelbase.py:1177\u001b[0m, in \u001b[0;36mKernel.raw_input\u001b[0;34m(self, prompt)\u001b[0m\n\u001b[1;32m   1173\u001b[0m \u001b[39mif\u001b[39;00m \u001b[39mnot\u001b[39;00m \u001b[39mself\u001b[39m\u001b[39m.\u001b[39m_allow_stdin:\n\u001b[1;32m   1174\u001b[0m     \u001b[39mraise\u001b[39;00m StdinNotImplementedError(\n\u001b[1;32m   1175\u001b[0m         \u001b[39m\"\u001b[39m\u001b[39mraw_input was called, but this frontend does not support input requests.\u001b[39m\u001b[39m\"\u001b[39m\n\u001b[1;32m   1176\u001b[0m     )\n\u001b[0;32m-> 1177\u001b[0m \u001b[39mreturn\u001b[39;00m \u001b[39mself\u001b[39;49m\u001b[39m.\u001b[39;49m_input_request(\n\u001b[1;32m   1178\u001b[0m     \u001b[39mstr\u001b[39;49m(prompt),\n\u001b[1;32m   1179\u001b[0m     \u001b[39mself\u001b[39;49m\u001b[39m.\u001b[39;49m_parent_ident[\u001b[39m\"\u001b[39;49m\u001b[39mshell\u001b[39;49m\u001b[39m\"\u001b[39;49m],\n\u001b[1;32m   1180\u001b[0m     \u001b[39mself\u001b[39;49m\u001b[39m.\u001b[39;49mget_parent(\u001b[39m\"\u001b[39;49m\u001b[39mshell\u001b[39;49m\u001b[39m\"\u001b[39;49m),\n\u001b[1;32m   1181\u001b[0m     password\u001b[39m=\u001b[39;49m\u001b[39mFalse\u001b[39;49;00m,\n\u001b[1;32m   1182\u001b[0m )\n",
      "File \u001b[0;32m~/.local/lib/python3.8/site-packages/ipykernel/kernelbase.py:1219\u001b[0m, in \u001b[0;36mKernel._input_request\u001b[0;34m(self, prompt, ident, parent, password)\u001b[0m\n\u001b[1;32m   1216\u001b[0m             \u001b[39mbreak\u001b[39;00m\n\u001b[1;32m   1217\u001b[0m \u001b[39mexcept\u001b[39;00m \u001b[39mKeyboardInterrupt\u001b[39;00m:\n\u001b[1;32m   1218\u001b[0m     \u001b[39m# re-raise KeyboardInterrupt, to truncate traceback\u001b[39;00m\n\u001b[0;32m-> 1219\u001b[0m     \u001b[39mraise\u001b[39;00m \u001b[39mKeyboardInterrupt\u001b[39;00m(\u001b[39m\"\u001b[39m\u001b[39mInterrupted by user\u001b[39m\u001b[39m\"\u001b[39m) \u001b[39mfrom\u001b[39;00m \u001b[39mNone\u001b[39m\n\u001b[1;32m   1220\u001b[0m \u001b[39mexcept\u001b[39;00m \u001b[39mException\u001b[39;00m:\n\u001b[1;32m   1221\u001b[0m     \u001b[39mself\u001b[39m\u001b[39m.\u001b[39mlog\u001b[39m.\u001b[39mwarning(\u001b[39m\"\u001b[39m\u001b[39mInvalid Message:\u001b[39m\u001b[39m\"\u001b[39m, exc_info\u001b[39m=\u001b[39m\u001b[39mTrue\u001b[39;00m)\n",
      "\u001b[0;31mKeyboardInterrupt\u001b[0m: Interrupted by user"
     ]
    }
   ],
   "source": [
    "sp = SudokuProblem(4)"
   ]
  },
  {
   "cell_type": "code",
   "execution_count": null,
   "metadata": {},
   "outputs": [
    {
     "name": "stdout",
     "output_type": "stream",
     "text": [
      "[\u001b[91m1\u001b[0m   ] len: 1 short: \u001b[91m1\u001b[0m\n",
      "[ \u001b[92m2\u001b[0m  ] len: 1 short: \u001b[92m2\u001b[0m\n",
      "[\u001b[91m1\u001b[0m\u001b[92m2\u001b[0m  ] len: 2 short: .\n",
      "[  \u001b[94m3\u001b[0m ] len: 1 short: \u001b[94m3\u001b[0m\n",
      "[\u001b[91m1\u001b[0m \u001b[94m3\u001b[0m ] len: 2 short: .\n",
      "[ \u001b[92m2\u001b[0m\u001b[94m3\u001b[0m ] len: 2 short: .\n",
      "[\u001b[91m1\u001b[0m\u001b[92m2\u001b[0m\u001b[94m3\u001b[0m ] len: 3 short: .\n",
      "[   \u001b[93m4\u001b[0m] len: 1 short: \u001b[93m4\u001b[0m\n",
      "[\u001b[91m1\u001b[0m  \u001b[93m4\u001b[0m] len: 2 short: .\n",
      "[ \u001b[92m2\u001b[0m \u001b[93m4\u001b[0m] len: 2 short: .\n",
      "[\u001b[91m1\u001b[0m\u001b[92m2\u001b[0m \u001b[93m4\u001b[0m] len: 3 short: .\n",
      "[  \u001b[94m3\u001b[0m\u001b[93m4\u001b[0m] len: 2 short: .\n",
      "[\u001b[91m1\u001b[0m \u001b[94m3\u001b[0m\u001b[93m4\u001b[0m] len: 3 short: .\n",
      "[ \u001b[92m2\u001b[0m\u001b[94m3\u001b[0m\u001b[93m4\u001b[0m] len: 3 short: .\n",
      "[\u001b[91m1\u001b[0m\u001b[92m2\u001b[0m\u001b[94m3\u001b[0m\u001b[93m4\u001b[0m] len: 4 short: .\n",
      "Completely unknown\n"
     ]
    }
   ],
   "source": [
    "for x in sp.all_xs:\n",
    "    print(sp.x_to_long_str[x],\"len:\",sp.x_to_len[x],\"short:\",sp.x_to_short_str[x])\n",
    "    if x == COMPLETELY_UNKNOWN:\n",
    "        print(\"Completely unknown\")"
   ]
  },
  {
   "cell_type": "code",
   "execution_count": null,
   "metadata": {},
   "outputs": [
    {
     "ename": "AttributeError",
     "evalue": "'NoneType' object has no attribute 'consistent'",
     "output_type": "error",
     "traceback": [
      "\u001b[0;31m---------------------------------------------------------------------------\u001b[0m",
      "\u001b[0;31mAttributeError\u001b[0m                            Traceback (most recent call last)",
      "Cell \u001b[0;32mIn [14], line 1\u001b[0m\n\u001b[0;32m----> 1\u001b[0m \u001b[39mfor\u001b[39;00m \u001b[39mstr\u001b[39m \u001b[39min\u001b[39;00m sp\u001b[39m.\u001b[39;49mrule_book_to_str():\n\u001b[1;32m      2\u001b[0m     \u001b[39mprint\u001b[39m(\u001b[39mstr\u001b[39m)\n\u001b[1;32m      3\u001b[0m     wprint(\u001b[39m\"\u001b[39m\u001b[39m\"\u001b[39m)\n",
      "File \u001b[0;32m/mnt/c/Users/Vijeta/Documents/Cours/shared/recursive-sudoku/four_outcomes/RS4.py:188\u001b[0m, in \u001b[0;36mrule_book_to_str\u001b[0;34m(self)\u001b[0m\n\u001b[1;32m    183\u001b[0m             if other_p != p:\n\u001b[1;32m    184\u001b[0m                 ps_to_check.add(other_p)\n\u001b[1;32m    186\u001b[0m # We're done, and we haven't reached an inconsistency. \n\u001b[1;32m    187\u001b[0m # Hence, we have some sort of consistent update.\n\u001b[0;32m--> 188\u001b[0m \n\u001b[1;32m    189\u001b[0m # Check for non-trivial:\n\u001b[1;32m    191\u001b[0m non_trivial_update = False\n\u001b[1;32m    192\u001b[0m non_trivial_pos = None\n",
      "\u001b[0;31mAttributeError\u001b[0m: 'NoneType' object has no attribute 'consistent'"
     ]
    }
   ],
   "source": [
    "for str in sp.rule_book_to_str():\n",
    "    print(str)\n",
    "    wprint(\"\")"
   ]
  }
 ],
 "metadata": {
  "kernelspec": {
   "display_name": "Python 3.8.10 64-bit",
   "language": "python",
   "name": "python3"
  },
  "language_info": {
   "codemirror_mode": {
    "name": "ipython",
    "version": 3
   },
   "file_extension": ".py",
   "mimetype": "text/x-python",
   "name": "python",
   "nbconvert_exporter": "python",
   "pygments_lexer": "ipython3",
   "version": "3.8.10"
  },
  "orig_nbformat": 4,
  "vscode": {
   "interpreter": {
    "hash": "916dbcbb3f70747c44a77c7bcd40155683ae19c65e1c03b4aa3499c5328201f1"
   }
  }
 },
 "nbformat": 4,
 "nbformat_minor": 2
}
